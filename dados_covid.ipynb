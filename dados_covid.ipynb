{
 "cells": [
  {
   "cell_type": "markdown",
   "metadata": {},
   "source": [
    "# ENTREGA FINAL\n",
    "**Salif Faustino - 20172005|Pedro Sousa - 2019101451**"
   ]
  },
  {
   "cell_type": "markdown",
   "metadata": {},
   "source": [
    "# Breve Introdução"
   ]
  },
  {
   "cell_type": "markdown",
   "metadata": {},
   "source": [
    "Na cadeira de  Laboratório e ciências de dados, do 3º Ano da Licenciatura em Informática, foi-nos proposto a interpretação e implementação de algoritmos  aprendidos durante o semestre, utlizando dados escolhidos por nós. Os dados escolhidos nesse trabalho correspondem aos registos acerca do virus cov-19 no ano ano de 2020, entre os meses de março e junho.\n",
    "O objetivo desse trabalho é através dos algoritmos estudados recolher informação que possa ser útil e bem representada na prespectiva do cliente( pessoas que não percebem nada sobre algoritmos). \n",
    "Com base nesse objetivo iremos explorar e interpretar todos os resuldados obtidos.\n"
   ]
  },
  {
   "cell_type": "markdown",
   "metadata": {},
   "source": [
    "\n",
    "## Descrição dos atributos da tabela de dados\n",
    "|Atributo |Descrição |\n",
    "|---|---|\n",
    "|ID  |número identificador do caso |\n",
    "|CONTADOR |número de pessoa testada no Brasil |\n",
    "|DATA_NOTIFICACAO |data de notificação do resultado do teste |\n",
    "|CLASSIFICACAO_CASO|se o teste é confirmado ser positivo ou não|\n",
    "|SEXO |género da pessoa (masculino ou feminino) |\n",
    "|FAIXA_ETARIA |faixa etária da pessoa testada|\n",
    "|MUNICIPIO_RESIDENCIA_COD |município de residência da pessoa |\n",
    "|MUNICIPIO_RESIDENCIA |município de residência da pessoa |\n",
    "|COMORBIDADE|se a pessoa tem comorbidade prognóstica |\n",
    "|EVOLUCAO |evolução do estado da pessoa no momento da data de obtenção dos dados |\n",
    "|INTERNACAO |se a pessoa esteve internada ou não |\n",
    "|UTI |se a pessoa esteve numa unidade de tratamento intensivo |\n",
    "|DATA_ATUALIZACAO |data de obtenção dos dados anteriores (único valor, 25/06/2020) |\n",
    "\n",
    "\n",
    "\n",
    "\n",
    "\n",
    "## Escalas de medida\n",
    "\n",
    "|Atributo                       | Escala de medida    |\n",
    "|-------------------------------|---------------------|\n",
    "|ID                             |ordinal              |\n",
    "|CONTADOR                       |ordinal              |\n",
    "|DATA_NOTIFICACAO               |nominal              |\n",
    "|CLASSIFICACAO_CASO             |nominal              |\n",
    "|SEXO                           |nominal              |\n",
    "|IDADE                          |razão ou rácio       |\n",
    "|FAIXA_ETARIA                   |intervalar           | \n",
    "|MUNICIPIO_RESIDENCIA_COD       |nominal              |\n",
    "|MUNICIPIO_RESIDENCIA           |nominal              |\n",
    "|COMORBIDADE                    |nominal              |\n",
    "|EVOLUCAO                       |nominal              |\n",
    "|INTERNACAO                     |nominal              |\n",
    "|UTI                            |nominal              |\n",
    "|DATA_ATUALIZACAO               |ordinal              |\n"
   ]
  },
  {
   "cell_type": "markdown",
   "metadata": {},
   "source": [
    "## Exploração, Pré-processamento e Validação"
   ]
  },
  {
   "cell_type": "code",
   "execution_count": 1,
   "metadata": {},
   "outputs": [],
   "source": [
    "#importar as bibliotecas necessárias para fazer a exploração, pré-processamento e validação dos dados.\n",
    "import matplotlib.pyplot as plt\n",
    "import pandas as pd\n",
    "import numpy as np\n",
    "import seaborn as sns\n",
    "import datetime"
   ]
  },
  {
   "cell_type": "code",
   "execution_count": 2,
   "metadata": {},
   "outputs": [
    {
     "data": {
      "text/html": [
       "<div>\n",
       "<style scoped>\n",
       "    .dataframe tbody tr th:only-of-type {\n",
       "        vertical-align: middle;\n",
       "    }\n",
       "\n",
       "    .dataframe tbody tr th {\n",
       "        vertical-align: top;\n",
       "    }\n",
       "\n",
       "    .dataframe thead th {\n",
       "        text-align: right;\n",
       "    }\n",
       "</style>\n",
       "<table border=\"1\" class=\"dataframe\">\n",
       "  <thead>\n",
       "    <tr style=\"text-align: right;\">\n",
       "      <th></th>\n",
       "      <th>ID</th>\n",
       "      <th>CONTADOR</th>\n",
       "      <th>DATA_NOTIFICACAO</th>\n",
       "      <th>CLASSIFICACAO_CASO</th>\n",
       "      <th>SEXO</th>\n",
       "      <th>IDADE</th>\n",
       "      <th>FAIXA_ETARIA</th>\n",
       "      <th>MUNICIPIO_RESIDENCIA_COD</th>\n",
       "      <th>MUNICIPIO_RESIDENCIA</th>\n",
       "      <th>COMORBIDADE</th>\n",
       "      <th>EVOLUCAO</th>\n",
       "      <th>INTERNACAO</th>\n",
       "      <th>UTI</th>\n",
       "      <th>DATA_ATUALIZACAO</th>\n",
       "    </tr>\n",
       "  </thead>\n",
       "  <tbody>\n",
       "    <tr>\n",
       "      <th>1</th>\n",
       "      <td>1</td>\n",
       "      <td>296297</td>\n",
       "      <td>04/03/2020</td>\n",
       "      <td>Caso Confirmado</td>\n",
       "      <td>Feminino</td>\n",
       "      <td>38</td>\n",
       "      <td>30 a 39 anos</td>\n",
       "      <td>313130.0</td>\n",
       "      <td>IPATINGA</td>\n",
       "      <td>Não Informado</td>\n",
       "      <td>RECUPERADO</td>\n",
       "      <td>NÃO</td>\n",
       "      <td>NÃO</td>\n",
       "      <td>25/06/2020</td>\n",
       "    </tr>\n",
       "    <tr>\n",
       "      <th>2</th>\n",
       "      <td>2</td>\n",
       "      <td>296298</td>\n",
       "      <td>07/03/2020</td>\n",
       "      <td>Caso Confirmado</td>\n",
       "      <td>Feminino</td>\n",
       "      <td>47</td>\n",
       "      <td>40 a 49 anos</td>\n",
       "      <td>312230.0</td>\n",
       "      <td>DIVINÓPOLIS</td>\n",
       "      <td>Não Informado</td>\n",
       "      <td>RECUPERADO</td>\n",
       "      <td>NÃO</td>\n",
       "      <td>NÃO</td>\n",
       "      <td>25/06/2020</td>\n",
       "    </tr>\n",
       "    <tr>\n",
       "      <th>3</th>\n",
       "      <td>3</td>\n",
       "      <td>296299</td>\n",
       "      <td>14/03/2020</td>\n",
       "      <td>Caso Confirmado</td>\n",
       "      <td>Masculino</td>\n",
       "      <td>65</td>\n",
       "      <td>60 a 69 anos</td>\n",
       "      <td>313670.0</td>\n",
       "      <td>JUIZ DE FORA</td>\n",
       "      <td>SIM</td>\n",
       "      <td>RECUPERADO</td>\n",
       "      <td>SIM</td>\n",
       "      <td>SIM</td>\n",
       "      <td>25/06/2020</td>\n",
       "    </tr>\n",
       "    <tr>\n",
       "      <th>4</th>\n",
       "      <td>4</td>\n",
       "      <td>296300</td>\n",
       "      <td>14/03/2020</td>\n",
       "      <td>Caso Confirmado</td>\n",
       "      <td>Feminino</td>\n",
       "      <td>37</td>\n",
       "      <td>30 a 39 anos</td>\n",
       "      <td>314810.0</td>\n",
       "      <td>PATROCÍNIO</td>\n",
       "      <td>Não Informado</td>\n",
       "      <td>RECUPERADO</td>\n",
       "      <td>NÃO</td>\n",
       "      <td>NÃO</td>\n",
       "      <td>25/06/2020</td>\n",
       "    </tr>\n",
       "    <tr>\n",
       "      <th>5</th>\n",
       "      <td>5</td>\n",
       "      <td>296301</td>\n",
       "      <td>16/03/2020</td>\n",
       "      <td>Caso Confirmado</td>\n",
       "      <td>Masculino</td>\n",
       "      <td>45</td>\n",
       "      <td>40 a 49 anos</td>\n",
       "      <td>310620.0</td>\n",
       "      <td>BELO HORIZONTE</td>\n",
       "      <td>Não Informado</td>\n",
       "      <td>RECUPERADO</td>\n",
       "      <td>NÃO</td>\n",
       "      <td>NÃO</td>\n",
       "      <td>25/06/2020</td>\n",
       "    </tr>\n",
       "    <tr>\n",
       "      <th>...</th>\n",
       "      <td>...</td>\n",
       "      <td>...</td>\n",
       "      <td>...</td>\n",
       "      <td>...</td>\n",
       "      <td>...</td>\n",
       "      <td>...</td>\n",
       "      <td>...</td>\n",
       "      <td>...</td>\n",
       "      <td>...</td>\n",
       "      <td>...</td>\n",
       "      <td>...</td>\n",
       "      <td>...</td>\n",
       "      <td>...</td>\n",
       "      <td>...</td>\n",
       "    </tr>\n",
       "    <tr>\n",
       "      <th>496</th>\n",
       "      <td>503</td>\n",
       "      <td>296792</td>\n",
       "      <td>05/04/2020</td>\n",
       "      <td>Caso Confirmado</td>\n",
       "      <td>Feminino</td>\n",
       "      <td>64</td>\n",
       "      <td>60 a 69 anos</td>\n",
       "      <td>310620.0</td>\n",
       "      <td>BELO HORIZONTE</td>\n",
       "      <td>SIM</td>\n",
       "      <td>RECUPERADO</td>\n",
       "      <td>SIM</td>\n",
       "      <td>NÃO</td>\n",
       "      <td>25/06/2020</td>\n",
       "    </tr>\n",
       "    <tr>\n",
       "      <th>497</th>\n",
       "      <td>504</td>\n",
       "      <td>296793</td>\n",
       "      <td>13/04/2020</td>\n",
       "      <td>Caso Confirmado</td>\n",
       "      <td>Masculino</td>\n",
       "      <td>78</td>\n",
       "      <td>70 a 79 anos</td>\n",
       "      <td>315150.0</td>\n",
       "      <td>PIUMHI</td>\n",
       "      <td>SIM</td>\n",
       "      <td>OBITO</td>\n",
       "      <td>SIM</td>\n",
       "      <td>SIM</td>\n",
       "      <td>25/06/2020</td>\n",
       "    </tr>\n",
       "    <tr>\n",
       "      <th>498</th>\n",
       "      <td>505</td>\n",
       "      <td>296794</td>\n",
       "      <td>05/04/2020</td>\n",
       "      <td>Caso Confirmado</td>\n",
       "      <td>Feminino</td>\n",
       "      <td>67</td>\n",
       "      <td>60 a 69 anos</td>\n",
       "      <td>313670.0</td>\n",
       "      <td>JUIZ DE FORA</td>\n",
       "      <td>SIM</td>\n",
       "      <td>RECUPERADO</td>\n",
       "      <td>SIM</td>\n",
       "      <td>NÃO</td>\n",
       "      <td>25/06/2020</td>\n",
       "    </tr>\n",
       "    <tr>\n",
       "      <th>499</th>\n",
       "      <td>506</td>\n",
       "      <td>296795</td>\n",
       "      <td>05/04/2020</td>\n",
       "      <td>Caso Confirmado</td>\n",
       "      <td>Masculino</td>\n",
       "      <td>36</td>\n",
       "      <td>30 a 39 anos</td>\n",
       "      <td>314800.0</td>\n",
       "      <td>PATOS DE MINAS</td>\n",
       "      <td>NÃO</td>\n",
       "      <td>RECUPERADO</td>\n",
       "      <td>SIM</td>\n",
       "      <td>NÃO</td>\n",
       "      <td>25/06/2020</td>\n",
       "    </tr>\n",
       "    <tr>\n",
       "      <th>500</th>\n",
       "      <td>507</td>\n",
       "      <td>296796</td>\n",
       "      <td>05/04/2020</td>\n",
       "      <td>Caso Confirmado</td>\n",
       "      <td>Masculino</td>\n",
       "      <td>82</td>\n",
       "      <td>80 a 89 anos</td>\n",
       "      <td>316557.0</td>\n",
       "      <td>SENADOR AMARAL</td>\n",
       "      <td>SIM</td>\n",
       "      <td>RECUPERADO</td>\n",
       "      <td>SIM</td>\n",
       "      <td>NÃO</td>\n",
       "      <td>25/06/2020</td>\n",
       "    </tr>\n",
       "  </tbody>\n",
       "</table>\n",
       "<p>500 rows × 14 columns</p>\n",
       "</div>"
      ],
      "text/plain": [
       "      ID  CONTADOR DATA_NOTIFICACAO CLASSIFICACAO_CASO       SEXO  IDADE  \\\n",
       "1      1    296297       04/03/2020    Caso Confirmado   Feminino     38   \n",
       "2      2    296298       07/03/2020    Caso Confirmado   Feminino     47   \n",
       "3      3    296299       14/03/2020    Caso Confirmado  Masculino     65   \n",
       "4      4    296300       14/03/2020    Caso Confirmado   Feminino     37   \n",
       "5      5    296301       16/03/2020    Caso Confirmado  Masculino     45   \n",
       "..   ...       ...              ...                ...        ...    ...   \n",
       "496  503    296792       05/04/2020    Caso Confirmado   Feminino     64   \n",
       "497  504    296793       13/04/2020    Caso Confirmado  Masculino     78   \n",
       "498  505    296794       05/04/2020    Caso Confirmado   Feminino     67   \n",
       "499  506    296795       05/04/2020    Caso Confirmado  Masculino     36   \n",
       "500  507    296796       05/04/2020    Caso Confirmado  Masculino     82   \n",
       "\n",
       "     FAIXA_ETARIA  MUNICIPIO_RESIDENCIA_COD MUNICIPIO_RESIDENCIA  \\\n",
       "1    30 a 39 anos                  313130.0             IPATINGA   \n",
       "2    40 a 49 anos                  312230.0          DIVINÓPOLIS   \n",
       "3    60 a 69 anos                  313670.0         JUIZ DE FORA   \n",
       "4    30 a 39 anos                  314810.0           PATROCÍNIO   \n",
       "5    40 a 49 anos                  310620.0       BELO HORIZONTE   \n",
       "..            ...                       ...                  ...   \n",
       "496  60 a 69 anos                  310620.0       BELO HORIZONTE   \n",
       "497  70 a 79 anos                  315150.0               PIUMHI   \n",
       "498  60 a 69 anos                  313670.0         JUIZ DE FORA   \n",
       "499  30 a 39 anos                  314800.0       PATOS DE MINAS   \n",
       "500  80 a 89 anos                  316557.0       SENADOR AMARAL   \n",
       "\n",
       "       COMORBIDADE    EVOLUCAO INTERNACAO  UTI DATA_ATUALIZACAO  \n",
       "1    Não Informado  RECUPERADO        NÃO  NÃO       25/06/2020  \n",
       "2    Não Informado  RECUPERADO        NÃO  NÃO       25/06/2020  \n",
       "3              SIM  RECUPERADO        SIM  SIM       25/06/2020  \n",
       "4    Não Informado  RECUPERADO        NÃO  NÃO       25/06/2020  \n",
       "5    Não Informado  RECUPERADO        NÃO  NÃO       25/06/2020  \n",
       "..             ...         ...        ...  ...              ...  \n",
       "496            SIM  RECUPERADO        SIM  NÃO       25/06/2020  \n",
       "497            SIM       OBITO        SIM  SIM       25/06/2020  \n",
       "498            SIM  RECUPERADO        SIM  NÃO       25/06/2020  \n",
       "499            NÃO  RECUPERADO        SIM  NÃO       25/06/2020  \n",
       "500            SIM  RECUPERADO        SIM  NÃO       25/06/2020  \n",
       "\n",
       "[500 rows x 14 columns]"
      ]
     },
     "execution_count": 2,
     "metadata": {},
     "output_type": "execute_result"
    }
   ],
   "source": [
    "dados = pd.read_csv('notificacoes-covid19-mg.csv',encoding = \"ISO-8859-1\", delimiter=\";\", decimal=\",\", nrows=500, header=0,index_col=0)\n",
    "dados"
   ]
  },
  {
   "cell_type": "markdown",
   "metadata": {},
   "source": [
    "# Descrição dos dados de todos dados"
   ]
  },
  {
   "cell_type": "code",
   "execution_count": 3,
   "metadata": {},
   "outputs": [
    {
     "data": {
      "text/html": [
       "<div>\n",
       "<style scoped>\n",
       "    .dataframe tbody tr th:only-of-type {\n",
       "        vertical-align: middle;\n",
       "    }\n",
       "\n",
       "    .dataframe tbody tr th {\n",
       "        vertical-align: top;\n",
       "    }\n",
       "\n",
       "    .dataframe thead th {\n",
       "        text-align: right;\n",
       "    }\n",
       "</style>\n",
       "<table border=\"1\" class=\"dataframe\">\n",
       "  <thead>\n",
       "    <tr style=\"text-align: right;\">\n",
       "      <th></th>\n",
       "      <th>ID</th>\n",
       "      <th>CONTADOR</th>\n",
       "      <th>DATA_NOTIFICACAO</th>\n",
       "      <th>CLASSIFICACAO_CASO</th>\n",
       "      <th>SEXO</th>\n",
       "      <th>IDADE</th>\n",
       "      <th>FAIXA_ETARIA</th>\n",
       "      <th>MUNICIPIO_RESIDENCIA_COD</th>\n",
       "      <th>MUNICIPIO_RESIDENCIA</th>\n",
       "      <th>COMORBIDADE</th>\n",
       "      <th>EVOLUCAO</th>\n",
       "      <th>INTERNACAO</th>\n",
       "      <th>UTI</th>\n",
       "      <th>DATA_ATUALIZACAO</th>\n",
       "    </tr>\n",
       "  </thead>\n",
       "  <tbody>\n",
       "    <tr>\n",
       "      <th>count</th>\n",
       "      <td>500.000000</td>\n",
       "      <td>500.000000</td>\n",
       "      <td>500</td>\n",
       "      <td>500</td>\n",
       "      <td>500</td>\n",
       "      <td>500.000000</td>\n",
       "      <td>500</td>\n",
       "      <td>493.00000</td>\n",
       "      <td>500</td>\n",
       "      <td>500</td>\n",
       "      <td>500</td>\n",
       "      <td>500</td>\n",
       "      <td>500</td>\n",
       "      <td>500</td>\n",
       "    </tr>\n",
       "    <tr>\n",
       "      <th>unique</th>\n",
       "      <td>NaN</td>\n",
       "      <td>NaN</td>\n",
       "      <td>33</td>\n",
       "      <td>1</td>\n",
       "      <td>2</td>\n",
       "      <td>NaN</td>\n",
       "      <td>10</td>\n",
       "      <td>NaN</td>\n",
       "      <td>58</td>\n",
       "      <td>3</td>\n",
       "      <td>3</td>\n",
       "      <td>3</td>\n",
       "      <td>3</td>\n",
       "      <td>1</td>\n",
       "    </tr>\n",
       "    <tr>\n",
       "      <th>top</th>\n",
       "      <td>NaN</td>\n",
       "      <td>NaN</td>\n",
       "      <td>04/04/2020</td>\n",
       "      <td>Caso Confirmado</td>\n",
       "      <td>Masculino</td>\n",
       "      <td>NaN</td>\n",
       "      <td>30 a 39 anos</td>\n",
       "      <td>NaN</td>\n",
       "      <td>BELO HORIZONTE</td>\n",
       "      <td>Não Informado</td>\n",
       "      <td>RECUPERADO</td>\n",
       "      <td>NÃO</td>\n",
       "      <td>NÃO</td>\n",
       "      <td>25/06/2020</td>\n",
       "    </tr>\n",
       "    <tr>\n",
       "      <th>freq</th>\n",
       "      <td>NaN</td>\n",
       "      <td>NaN</td>\n",
       "      <td>65</td>\n",
       "      <td>500</td>\n",
       "      <td>291</td>\n",
       "      <td>NaN</td>\n",
       "      <td>139</td>\n",
       "      <td>NaN</td>\n",
       "      <td>253</td>\n",
       "      <td>338</td>\n",
       "      <td>479</td>\n",
       "      <td>299</td>\n",
       "      <td>365</td>\n",
       "      <td>500</td>\n",
       "    </tr>\n",
       "    <tr>\n",
       "      <th>mean</th>\n",
       "      <td>252.130000</td>\n",
       "      <td>296546.500000</td>\n",
       "      <td>NaN</td>\n",
       "      <td>NaN</td>\n",
       "      <td>NaN</td>\n",
       "      <td>45.936000</td>\n",
       "      <td>NaN</td>\n",
       "      <td>312459.64503</td>\n",
       "      <td>NaN</td>\n",
       "      <td>NaN</td>\n",
       "      <td>NaN</td>\n",
       "      <td>NaN</td>\n",
       "      <td>NaN</td>\n",
       "      <td>NaN</td>\n",
       "    </tr>\n",
       "    <tr>\n",
       "      <th>std</th>\n",
       "      <td>146.508945</td>\n",
       "      <td>144.481833</td>\n",
       "      <td>NaN</td>\n",
       "      <td>NaN</td>\n",
       "      <td>NaN</td>\n",
       "      <td>16.634582</td>\n",
       "      <td>NaN</td>\n",
       "      <td>2327.08741</td>\n",
       "      <td>NaN</td>\n",
       "      <td>NaN</td>\n",
       "      <td>NaN</td>\n",
       "      <td>NaN</td>\n",
       "      <td>NaN</td>\n",
       "      <td>NaN</td>\n",
       "    </tr>\n",
       "    <tr>\n",
       "      <th>min</th>\n",
       "      <td>1.000000</td>\n",
       "      <td>296297.000000</td>\n",
       "      <td>NaN</td>\n",
       "      <td>NaN</td>\n",
       "      <td>NaN</td>\n",
       "      <td>0.000000</td>\n",
       "      <td>NaN</td>\n",
       "      <td>310160.00000</td>\n",
       "      <td>NaN</td>\n",
       "      <td>NaN</td>\n",
       "      <td>NaN</td>\n",
       "      <td>NaN</td>\n",
       "      <td>NaN</td>\n",
       "      <td>NaN</td>\n",
       "    </tr>\n",
       "    <tr>\n",
       "      <th>25%</th>\n",
       "      <td>125.750000</td>\n",
       "      <td>296421.750000</td>\n",
       "      <td>NaN</td>\n",
       "      <td>NaN</td>\n",
       "      <td>NaN</td>\n",
       "      <td>34.000000</td>\n",
       "      <td>NaN</td>\n",
       "      <td>310620.00000</td>\n",
       "      <td>NaN</td>\n",
       "      <td>NaN</td>\n",
       "      <td>NaN</td>\n",
       "      <td>NaN</td>\n",
       "      <td>NaN</td>\n",
       "      <td>NaN</td>\n",
       "    </tr>\n",
       "    <tr>\n",
       "      <th>50%</th>\n",
       "      <td>250.500000</td>\n",
       "      <td>296546.500000</td>\n",
       "      <td>NaN</td>\n",
       "      <td>NaN</td>\n",
       "      <td>NaN</td>\n",
       "      <td>42.000000</td>\n",
       "      <td>NaN</td>\n",
       "      <td>310620.00000</td>\n",
       "      <td>NaN</td>\n",
       "      <td>NaN</td>\n",
       "      <td>NaN</td>\n",
       "      <td>NaN</td>\n",
       "      <td>NaN</td>\n",
       "      <td>NaN</td>\n",
       "    </tr>\n",
       "    <tr>\n",
       "      <th>75%</th>\n",
       "      <td>380.250000</td>\n",
       "      <td>296671.250000</td>\n",
       "      <td>NaN</td>\n",
       "      <td>NaN</td>\n",
       "      <td>NaN</td>\n",
       "      <td>58.000000</td>\n",
       "      <td>NaN</td>\n",
       "      <td>314480.00000</td>\n",
       "      <td>NaN</td>\n",
       "      <td>NaN</td>\n",
       "      <td>NaN</td>\n",
       "      <td>NaN</td>\n",
       "      <td>NaN</td>\n",
       "      <td>NaN</td>\n",
       "    </tr>\n",
       "    <tr>\n",
       "      <th>max</th>\n",
       "      <td>507.000000</td>\n",
       "      <td>296796.000000</td>\n",
       "      <td>NaN</td>\n",
       "      <td>NaN</td>\n",
       "      <td>NaN</td>\n",
       "      <td>94.000000</td>\n",
       "      <td>NaN</td>\n",
       "      <td>317100.00000</td>\n",
       "      <td>NaN</td>\n",
       "      <td>NaN</td>\n",
       "      <td>NaN</td>\n",
       "      <td>NaN</td>\n",
       "      <td>NaN</td>\n",
       "      <td>NaN</td>\n",
       "    </tr>\n",
       "  </tbody>\n",
       "</table>\n",
       "</div>"
      ],
      "text/plain": [
       "                ID       CONTADOR DATA_NOTIFICACAO CLASSIFICACAO_CASO  \\\n",
       "count   500.000000     500.000000              500                500   \n",
       "unique         NaN            NaN               33                  1   \n",
       "top            NaN            NaN       04/04/2020    Caso Confirmado   \n",
       "freq           NaN            NaN               65                500   \n",
       "mean    252.130000  296546.500000              NaN                NaN   \n",
       "std     146.508945     144.481833              NaN                NaN   \n",
       "min       1.000000  296297.000000              NaN                NaN   \n",
       "25%     125.750000  296421.750000              NaN                NaN   \n",
       "50%     250.500000  296546.500000              NaN                NaN   \n",
       "75%     380.250000  296671.250000              NaN                NaN   \n",
       "max     507.000000  296796.000000              NaN                NaN   \n",
       "\n",
       "             SEXO       IDADE  FAIXA_ETARIA  MUNICIPIO_RESIDENCIA_COD  \\\n",
       "count         500  500.000000           500                 493.00000   \n",
       "unique          2         NaN            10                       NaN   \n",
       "top     Masculino         NaN  30 a 39 anos                       NaN   \n",
       "freq          291         NaN           139                       NaN   \n",
       "mean          NaN   45.936000           NaN              312459.64503   \n",
       "std           NaN   16.634582           NaN                2327.08741   \n",
       "min           NaN    0.000000           NaN              310160.00000   \n",
       "25%           NaN   34.000000           NaN              310620.00000   \n",
       "50%           NaN   42.000000           NaN              310620.00000   \n",
       "75%           NaN   58.000000           NaN              314480.00000   \n",
       "max           NaN   94.000000           NaN              317100.00000   \n",
       "\n",
       "       MUNICIPIO_RESIDENCIA    COMORBIDADE    EVOLUCAO INTERNACAO  UTI  \\\n",
       "count                   500            500         500        500  500   \n",
       "unique                   58              3           3          3    3   \n",
       "top          BELO HORIZONTE  Não Informado  RECUPERADO        NÃO  NÃO   \n",
       "freq                    253            338         479        299  365   \n",
       "mean                    NaN            NaN         NaN        NaN  NaN   \n",
       "std                     NaN            NaN         NaN        NaN  NaN   \n",
       "min                     NaN            NaN         NaN        NaN  NaN   \n",
       "25%                     NaN            NaN         NaN        NaN  NaN   \n",
       "50%                     NaN            NaN         NaN        NaN  NaN   \n",
       "75%                     NaN            NaN         NaN        NaN  NaN   \n",
       "max                     NaN            NaN         NaN        NaN  NaN   \n",
       "\n",
       "       DATA_ATUALIZACAO  \n",
       "count               500  \n",
       "unique                1  \n",
       "top          25/06/2020  \n",
       "freq                500  \n",
       "mean                NaN  \n",
       "std                 NaN  \n",
       "min                 NaN  \n",
       "25%                 NaN  \n",
       "50%                 NaN  \n",
       "75%                 NaN  \n",
       "max                 NaN  "
      ]
     },
     "execution_count": 3,
     "metadata": {},
     "output_type": "execute_result"
    }
   ],
   "source": [
    "dados.describe(include='all')"
   ]
  },
  {
   "cell_type": "markdown",
   "metadata": {},
   "source": [
    "## Descrição de dados númericos"
   ]
  },
  {
   "cell_type": "code",
   "execution_count": 4,
   "metadata": {},
   "outputs": [
    {
     "data": {
      "text/html": [
       "<div>\n",
       "<style scoped>\n",
       "    .dataframe tbody tr th:only-of-type {\n",
       "        vertical-align: middle;\n",
       "    }\n",
       "\n",
       "    .dataframe tbody tr th {\n",
       "        vertical-align: top;\n",
       "    }\n",
       "\n",
       "    .dataframe thead th {\n",
       "        text-align: right;\n",
       "    }\n",
       "</style>\n",
       "<table border=\"1\" class=\"dataframe\">\n",
       "  <thead>\n",
       "    <tr style=\"text-align: right;\">\n",
       "      <th></th>\n",
       "      <th>ID</th>\n",
       "      <th>CONTADOR</th>\n",
       "      <th>IDADE</th>\n",
       "      <th>MUNICIPIO_RESIDENCIA_COD</th>\n",
       "    </tr>\n",
       "  </thead>\n",
       "  <tbody>\n",
       "    <tr>\n",
       "      <th>count</th>\n",
       "      <td>500.000000</td>\n",
       "      <td>500.000000</td>\n",
       "      <td>500.000000</td>\n",
       "      <td>493.00000</td>\n",
       "    </tr>\n",
       "    <tr>\n",
       "      <th>mean</th>\n",
       "      <td>252.130000</td>\n",
       "      <td>296546.500000</td>\n",
       "      <td>45.936000</td>\n",
       "      <td>312459.64503</td>\n",
       "    </tr>\n",
       "    <tr>\n",
       "      <th>std</th>\n",
       "      <td>146.508945</td>\n",
       "      <td>144.481833</td>\n",
       "      <td>16.634582</td>\n",
       "      <td>2327.08741</td>\n",
       "    </tr>\n",
       "    <tr>\n",
       "      <th>min</th>\n",
       "      <td>1.000000</td>\n",
       "      <td>296297.000000</td>\n",
       "      <td>0.000000</td>\n",
       "      <td>310160.00000</td>\n",
       "    </tr>\n",
       "    <tr>\n",
       "      <th>25%</th>\n",
       "      <td>125.750000</td>\n",
       "      <td>296421.750000</td>\n",
       "      <td>34.000000</td>\n",
       "      <td>310620.00000</td>\n",
       "    </tr>\n",
       "    <tr>\n",
       "      <th>50%</th>\n",
       "      <td>250.500000</td>\n",
       "      <td>296546.500000</td>\n",
       "      <td>42.000000</td>\n",
       "      <td>310620.00000</td>\n",
       "    </tr>\n",
       "    <tr>\n",
       "      <th>75%</th>\n",
       "      <td>380.250000</td>\n",
       "      <td>296671.250000</td>\n",
       "      <td>58.000000</td>\n",
       "      <td>314480.00000</td>\n",
       "    </tr>\n",
       "    <tr>\n",
       "      <th>max</th>\n",
       "      <td>507.000000</td>\n",
       "      <td>296796.000000</td>\n",
       "      <td>94.000000</td>\n",
       "      <td>317100.00000</td>\n",
       "    </tr>\n",
       "  </tbody>\n",
       "</table>\n",
       "</div>"
      ],
      "text/plain": [
       "               ID       CONTADOR       IDADE  MUNICIPIO_RESIDENCIA_COD\n",
       "count  500.000000     500.000000  500.000000                 493.00000\n",
       "mean   252.130000  296546.500000   45.936000              312459.64503\n",
       "std    146.508945     144.481833   16.634582                2327.08741\n",
       "min      1.000000  296297.000000    0.000000              310160.00000\n",
       "25%    125.750000  296421.750000   34.000000              310620.00000\n",
       "50%    250.500000  296546.500000   42.000000              310620.00000\n",
       "75%    380.250000  296671.250000   58.000000              314480.00000\n",
       "max    507.000000  296796.000000   94.000000              317100.00000"
      ]
     },
     "execution_count": 4,
     "metadata": {},
     "output_type": "execute_result"
    }
   ],
   "source": [
    "# Descrição de dados númericos \n",
    "dados.describe()"
   ]
  },
  {
   "cell_type": "markdown",
   "metadata": {},
   "source": [
    "## Descrição de dados categóricos, datetime,object(não-númericos)"
   ]
  },
  {
   "cell_type": "code",
   "execution_count": 5,
   "metadata": {},
   "outputs": [
    {
     "data": {
      "text/html": [
       "<div>\n",
       "<style scoped>\n",
       "    .dataframe tbody tr th:only-of-type {\n",
       "        vertical-align: middle;\n",
       "    }\n",
       "\n",
       "    .dataframe tbody tr th {\n",
       "        vertical-align: top;\n",
       "    }\n",
       "\n",
       "    .dataframe thead th {\n",
       "        text-align: right;\n",
       "    }\n",
       "</style>\n",
       "<table border=\"1\" class=\"dataframe\">\n",
       "  <thead>\n",
       "    <tr style=\"text-align: right;\">\n",
       "      <th></th>\n",
       "      <th>DATA_NOTIFICACAO</th>\n",
       "      <th>CLASSIFICACAO_CASO</th>\n",
       "      <th>SEXO</th>\n",
       "      <th>FAIXA_ETARIA</th>\n",
       "      <th>MUNICIPIO_RESIDENCIA</th>\n",
       "      <th>COMORBIDADE</th>\n",
       "      <th>EVOLUCAO</th>\n",
       "      <th>INTERNACAO</th>\n",
       "      <th>UTI</th>\n",
       "      <th>DATA_ATUALIZACAO</th>\n",
       "    </tr>\n",
       "  </thead>\n",
       "  <tbody>\n",
       "    <tr>\n",
       "      <th>count</th>\n",
       "      <td>500</td>\n",
       "      <td>500</td>\n",
       "      <td>500</td>\n",
       "      <td>500</td>\n",
       "      <td>500</td>\n",
       "      <td>500</td>\n",
       "      <td>500</td>\n",
       "      <td>500</td>\n",
       "      <td>500</td>\n",
       "      <td>500</td>\n",
       "    </tr>\n",
       "    <tr>\n",
       "      <th>unique</th>\n",
       "      <td>33</td>\n",
       "      <td>1</td>\n",
       "      <td>2</td>\n",
       "      <td>10</td>\n",
       "      <td>58</td>\n",
       "      <td>3</td>\n",
       "      <td>3</td>\n",
       "      <td>3</td>\n",
       "      <td>3</td>\n",
       "      <td>1</td>\n",
       "    </tr>\n",
       "    <tr>\n",
       "      <th>top</th>\n",
       "      <td>04/04/2020</td>\n",
       "      <td>Caso Confirmado</td>\n",
       "      <td>Masculino</td>\n",
       "      <td>30 a 39 anos</td>\n",
       "      <td>BELO HORIZONTE</td>\n",
       "      <td>Não Informado</td>\n",
       "      <td>RECUPERADO</td>\n",
       "      <td>NÃO</td>\n",
       "      <td>NÃO</td>\n",
       "      <td>25/06/2020</td>\n",
       "    </tr>\n",
       "    <tr>\n",
       "      <th>freq</th>\n",
       "      <td>65</td>\n",
       "      <td>500</td>\n",
       "      <td>291</td>\n",
       "      <td>139</td>\n",
       "      <td>253</td>\n",
       "      <td>338</td>\n",
       "      <td>479</td>\n",
       "      <td>299</td>\n",
       "      <td>365</td>\n",
       "      <td>500</td>\n",
       "    </tr>\n",
       "  </tbody>\n",
       "</table>\n",
       "</div>"
      ],
      "text/plain": [
       "       DATA_NOTIFICACAO CLASSIFICACAO_CASO       SEXO  FAIXA_ETARIA  \\\n",
       "count               500                500        500           500   \n",
       "unique               33                  1          2            10   \n",
       "top          04/04/2020    Caso Confirmado  Masculino  30 a 39 anos   \n",
       "freq                 65                500        291           139   \n",
       "\n",
       "       MUNICIPIO_RESIDENCIA    COMORBIDADE    EVOLUCAO INTERNACAO  UTI  \\\n",
       "count                   500            500         500        500  500   \n",
       "unique                   58              3           3          3    3   \n",
       "top          BELO HORIZONTE  Não Informado  RECUPERADO        NÃO  NÃO   \n",
       "freq                    253            338         479        299  365   \n",
       "\n",
       "       DATA_ATUALIZACAO  \n",
       "count               500  \n",
       "unique                1  \n",
       "top          25/06/2020  \n",
       "freq                500  "
      ]
     },
     "execution_count": 5,
     "metadata": {},
     "output_type": "execute_result"
    }
   ],
   "source": [
    "dados.describe(include=[\"category\",\"datetime\",\"object\"])"
   ]
  },
  {
   "cell_type": "code",
   "execution_count": 6,
   "metadata": {},
   "outputs": [],
   "source": [
    "# números de individuos infetados do sexo masculino e feminino\n",
    "dados_sexo = dados[\"SEXO\"].value_counts()\n",
    "\n",
    "# números de individuos infetados em todas as faixas etárias \n",
    "dados_faixa_etaria=dados[\"FAIXA_ETARIA\"].value_counts()"
   ]
  },
  {
   "cell_type": "code",
   "execution_count": 7,
   "metadata": {},
   "outputs": [
    {
     "data": {
      "text/plain": [
       "<matplotlib.legend.Legend at 0x4e845e1b20>"
      ]
     },
     "execution_count": 7,
     "metadata": {},
     "output_type": "execute_result"
    },
    {
     "data": {
      "image/png": "[encoded data removed]",
      "text/plain": [
       "<Figure size 1296x720 with 2 Axes>"
      ]
     },
     "metadata": {},
     "output_type": "display_data"
    }
   ],
   "source": [
    "casosporsexo=dados.SEXO.value_counts()\n",
    "casosporfaixaetaria=dados.FAIXA_ETARIA.value_counts()\n",
    "explode = (0.1, 0)\n",
    "fig, axs = plt.subplots(1, 2, figsize=(18,10))\n",
    "\n",
    "casosporsexo.plot.pie(label=\"room_type\", autopct=\"%.2f%%\", ax=axs[0],explode = (0, 0.05), title=\"TOTAL DE CASOS:\"+ str(dados.iloc[-1].name),colors = ['blue', 'pink'] ,)\n",
    "axs[0].set(ylabel=\"\")\n",
    "\n",
    "casosporfaixaetaria.plot.pie(label=\"room_type\", autopct=\"%.2f%%\", ax=axs[1],explode = (0.05, 0, 0, 0,0,0,0,0,0,0), title=\"TOTAL DE CASOS:\" + str(dados.iloc[-1].name),colors = ['red', 'grey', 'orange', 'green', 'blue', 'indigo', 'teal', 'aqua', 'yellow', 'pink'])\n",
    "axs[1].set(ylabel=\"\")\n",
    "plt.legend(dados_faixa_etaria, loc=(1.2, 0.3),fontsize=12)\n"
   ]
  },
  {
   "cell_type": "markdown",
   "metadata": {},
   "source": [
    "<p> No primeiro  Gráfico indicamos as percentagens das pessoas infectadas com o coronavírus, onde podemos observar que os indivíduos do sexo masculino apresentam maior percentagem  de infecção em relação aos indivíduos  do sexo  feminino.</p>\n",
    "<p>No segundo gráfico indicamos as percentagens de pessoas infetadas por grupo etário, onde podemos observar que o grupo compreendedido entre as idades dos 30 aos 39 apresenta maior percentagem de infecção</p>"
   ]
  },
  {
   "cell_type": "code",
   "execution_count": 8,
   "metadata": {},
   "outputs": [],
   "source": [
    "# lista com as datas de notificação\n",
    "lista_datas = dados[\"DATA_NOTIFICACAO\"].tolist()\n",
    "#lista_datas"
   ]
  },
  {
   "cell_type": "code",
   "execution_count": 9,
   "metadata": {},
   "outputs": [],
   "source": [
    "#lista com as datas ordenadas\n",
    "dates = [datetime.datetime.strptime(ts, \"%d/%m/%Y\") for ts in lista_datas]\n",
    "dates.sort()\n",
    "sorteddates = [datetime.datetime.strftime(ts, \"%d/%m/%Y\") for ts in dates]\n",
    "#sorteddates"
   ]
  },
  {
   "cell_type": "code",
   "execution_count": 10,
   "metadata": {},
   "outputs": [
    {
     "data": {
      "text/plain": [
       "[<matplotlib.lines.Line2D at 0x4e85355a60>]"
      ]
     },
     "execution_count": 10,
     "metadata": {},
     "output_type": "execute_result"
    },
    {
     "data": {
      "image/png": "[encoded data removed]",
      "text/plain": [
       "<Figure size 1440x576 with 1 Axes>"
      ]
     },
     "metadata": {
      "needs_background": "light"
     },
     "output_type": "display_data"
    }
   ],
   "source": [
    "fig, ax = plt.subplots(figsize=(20,8))\n",
    "ax.set(xlabel = \"Data de notificação\", ylabel = \"ID da pessoa\", title = \"Variação de pessoas testadas ao longo do tempo\")\n",
    "plt.setp(ax.get_xticklabels(), rotation=45)\n",
    "ax.plot(sorteddates, dados[\"ID\"], color = \"red\")"
   ]
  },
  {
   "cell_type": "markdown",
   "metadata": {},
   "source": [
    "<p>Este gráfico mostra  o número de pessoas testadas ao logo do tempo, onde podemos observar que o crescimento é exponencial,ou seja, a medida que o tempo passa mais testes são realizados devido ao aumento de pessoas infectadas.</p>"
   ]
  },
  {
   "cell_type": "code",
   "execution_count": 11,
   "metadata": {},
   "outputs": [],
   "source": [
    "# números de individuos infetados do sexo masculino e feminino por faixa etária \n",
    "dados_faixa = dados[\"FAIXA_ETARIA\"].value_counts().sort_index()\n",
    "#dados_faixa"
   ]
  },
  {
   "cell_type": "code",
   "execution_count": 12,
   "metadata": {},
   "outputs": [
    {
     "data": {
      "image/png": "[encoded data removed]",
      "text/plain": [
       "<Figure size 720x360 with 1 Axes>"
      ]
     },
     "metadata": {
      "needs_background": "light"
     },
     "output_type": "display_data"
    }
   ],
   "source": [
    "#Número de casos por faixa etária\n",
    "# No eixo y temos a faixa etária e no eixo x temos o número de casos\n",
    "f = plt.figure(figsize=(10,5))\n",
    "f.add_subplot(111)\n",
    "\n",
    "plt.axes(axisbelow=True)\n",
    "ax = plt.barh(dados[\"MUNICIPIO_RESIDENCIA\"].value_counts(sort = True,ascending=True ).index[-5:],dados[\"MUNICIPIO_RESIDENCIA\"].value_counts(sort = True,ascending=True ).values[-5:],color=\"darkcyan\")\n",
    "plt.tick_params(size=5,labelsize = 13)\n",
    "plt.xlabel(\"Casos confirmados\",fontsize=18)\n",
    "plt.title(\"Top 5 municípios (Casos confirmados)\",fontsize=20)\n",
    "plt.grid(alpha=0.3)\n"
   ]
  },
  {
   "cell_type": "markdown",
   "metadata": {},
   "source": [
    "<p>Este gráfico mostra o top 5  das regiões com maior número de casos.</p>"
   ]
  },
  {
   "cell_type": "code",
   "execution_count": 13,
   "metadata": {},
   "outputs": [],
   "source": [
    "dados['DATA_NOTIFICACAO']=pd.to_datetime(dados['DATA_NOTIFICACAO'],format='%d/%m/%Y')\n",
    "dados.index=dados['DATA_NOTIFICACAO']\n"
   ]
  },
  {
   "cell_type": "code",
   "execution_count": 14,
   "metadata": {},
   "outputs": [
    {
     "data": {
      "image/png": "[encoded data removed]",
      "text/plain": [
       "<Figure size 1080x576 with 1 Axes>"
      ]
     },
     "metadata": {
      "needs_background": "light"
     },
     "output_type": "display_data"
    }
   ],
   "source": [
    "#Número de casos por faixa etária\n",
    "# No eixo y temos a faixa etária e no eixo x temos o número de casos\n",
    "\n",
    "df = dados[\"FAIXA_ETARIA\"].value_counts().sort_index()\n",
    "ax=df.plot.barh(color=['C1', 'C0', 'C2', 'C3', 'C4'],figsize=(15,8))\n",
    "ax.set(xlabel = \"NÚMERO DE CASOS\", ylabel = \"GRUPO ETÁRIO\", title = \"NÚMERO DE CASOS POR GRUPO ETÁRIO\")\n",
    "for i in ax.patches:\n",
    "    # get_width pulls left or right; get_y pushes up or down\n",
    "    ax.text(i.get_width()+.1, i.get_y()+.14, \\\n",
    "            str(round((i.get_width()), 4)), fontsize=12, color=\"black\")"
   ]
  },
  {
   "cell_type": "markdown",
   "metadata": {},
   "source": [
    "<p> Este gráfico mostra o número de casos registados por faixa etária,  podemos observar que o grupo com as idades compreendidas  entre os 30 e os 39\n",
    "apresentam um maior número de casos em relação às demais faixas etárias  e o grupo com as idades compreendidas entre os 0 e 9 apresenta um menor número de casos. </p>"
   ]
  },
  {
   "cell_type": "code",
   "execution_count": 15,
   "metadata": {},
   "outputs": [
    {
     "data": {
      "text/plain": [
       "<BarContainer object of 3 artists>"
      ]
     },
     "execution_count": 15,
     "metadata": {},
     "output_type": "execute_result"
    },
    {
     "data": {
      "image/png": "[encoded data removed]",
      "text/plain": [
       "<Figure size 864x720 with 2 Axes>"
      ]
     },
     "metadata": {
      "needs_background": "light"
     },
     "output_type": "display_data"
    }
   ],
   "source": [
    "#bar plot para comparar internamentos com cuidados intensivos\n",
    "fig, axs = plt.subplots(1,2,figsize=(12, 10), sharey=True)\n",
    "G=dados[\"INTERNACAO\"].value_counts()\n",
    "G1=dados[\"UTI\"].value_counts()\n",
    "axs[0].bar(G.keys(),G )\n",
    "axs[1].bar(G1.keys(),G1 )"
   ]
  },
  {
   "cell_type": "markdown",
   "metadata": {},
   "source": [
    "<p> Os gráficos comparam a quantidade de pessoas das quais se sabe ou não (ou não foi informado) que estiveram internadas com as que estiveram nos cuidados intensivos </p>"
   ]
  },
  {
   "cell_type": "code",
   "execution_count": 16,
   "metadata": {
    "scrolled": true
   },
   "outputs": [
    {
     "data": {
      "image/png": "[encoded data removed]",
      "text/plain": [
       "<Figure size 648x648 with 1 Axes>"
      ]
     },
     "metadata": {
      "needs_background": "light"
     },
     "output_type": "display_data"
    }
   ],
   "source": [
    "fig, axs = plt.subplots(figsize=(9, 9), sharey=True)\n",
    "E=dados[\"EVOLUCAO\"].value_counts()\n",
    "axs.bar(E.keys(),E )\n",
    "axs.set_xlabel(\"Evolução da pessoa\") \n",
    "axs.set_ylabel(\"Quantidade de pessoas\") \n",
    "axs.set_title(\"Evolução do vírus nas pessoas em estudo\")\n",
    "for i in ax.patches:\n",
    "    # get_width pulls left or right; get_y pushes up or down\n",
    "    ax.text(i.get_width()+.1, i.get_y()+.14, \\\n",
    "            str(round((i.get_width()), 4)), fontsize=12, color=\"red\")"
   ]
  },
  {
   "cell_type": "markdown",
   "metadata": {},
   "source": [
    "<p>Este gráfico ilustra a evolução dos virus, onde podemos observar que temos um número de recuperados bastante considerável quando comparado com os óbitos e casos em acompanhamento.</p>"
   ]
  },
  {
   "cell_type": "code",
   "execution_count": 18,
   "metadata": {},
   "outputs": [
    {
     "data": {
      "image/png": "[encoded data removed]",
      "text/plain": [
       "<Figure size 720x360 with 1 Axes>"
      ]
     },
     "metadata": {
      "needs_background": "light"
     },
     "output_type": "display_data"
    }
   ],
   "source": [
    "f = plt.figure(figsize=(10,5))\n",
    "f.add_subplot(111)\n",
    "\n",
    "plt.axes(axisbelow=True)\n",
    "plt.barh(dados[\"IDADE\"].value_counts(sort = True,ascending=True ).index[-5:],dados[\"IDADE\"].value_counts(sort = True,ascending=True ).values[-5:],color=\"darkorange\")\n",
    "plt.tick_params(size=5,labelsize = 13)\n",
    "plt.xlabel(\"Casos\",fontsize=18)\n",
    "plt.title(\"Top idades com mais casos confirmados\",fontsize=20)\n",
    "plt.grid(alpha=0.3)"
   ]
  },
  {
   "cell_type": "markdown",
   "metadata": {},
   "source": [
    "<p> Idades mais prominientes do vírus. Como se pode notar, não existiram casos nas idades de 36 e 37 anos <p>"
   ]
  },
  {
   "cell_type": "code",
   "execution_count": null,
   "metadata": {},
   "outputs": [],
   "source": []
  }
 ],
 "metadata": {
  "kernelspec": {
   "display_name": "Python 3",
   "language": "python",
   "name": "python3"
  },
  "language_info": {
   "codemirror_mode": {
    "name": "ipython",
    "version": 3
   },
   "file_extension": ".py",
   "mimetype": "text/x-python",
   "name": "python",
   "nbconvert_exporter": "python",
   "pygments_lexer": "ipython3",
   "version": "3.8.3"
  }
 },
 "nbformat": 4,
 "nbformat_minor": 4
}
